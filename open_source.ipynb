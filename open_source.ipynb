{
 "cells": [
  {
   "cell_type": "code",
   "execution_count": 1,
   "metadata": {},
   "outputs": [],
   "source": [
    "import requests\n",
    "import json\n",
    "\n",
    "def generate_text(prompt, model):\n",
    "    url = \"http://localhost:11434/api/generate\"\n",
    "    \n",
    "    data = {\n",
    "        \"model\": model,\n",
    "        \"prompt\": prompt,\n",
    "        \"stream\": False\n",
    "    }\n",
    "    \n",
    "    response = requests.post(url, json=data)\n",
    "    \n",
    "    if response.status_code == 200:\n",
    "        result = json.loads(response.text)\n",
    "        return result['response']\n",
    "    else:\n",
    "        return f\"Error: {response.status_code}, {response.text}\""
   ]
  },
  {
   "cell_type": "code",
   "execution_count": 2,
   "metadata": {},
   "outputs": [],
   "source": [
    "# Sample\n",
    "model = \"phi3:latest\"\n",
    "\n",
    "sys_prompt = \"\"\"\n",
    "You are a helpful assistant. Always provide explanations suitable for a five-year-old.\n",
    "\"\"\"\n",
    "\n",
    "user_prompt = \"\"\"\n",
    "What are neural networks in Large Language Models?\n",
    "\"\"\"\n",
    "\n",
    "full_prompt = f\"\"\"[INST] {sys_prompt} [/INST] {user_prompt}\"\"\""
   ]
  },
  {
   "cell_type": "code",
   "execution_count": 3,
   "metadata": {},
   "outputs": [
    {
     "name": "stdout",
     "output_type": "stream",
     "text": [
      " Imagine your brain, where you learn new things every day by reading or talking to friends and family. Neural networks inside large language models work like this too! They \"learn\" from lots of words they read or see on screens (like books or websites), helping them understand what people are saying in a way that helps us talk back faster, almost as if the computer is paying attention just like you do when I answer your questions.\n"
     ]
    }
   ],
   "source": [
    "response = generate_text(full_prompt, model)\n",
    "print(response)"
   ]
  }
 ],
 "metadata": {
  "kernelspec": {
   "display_name": ".venv",
   "language": "python",
   "name": "python3"
  },
  "language_info": {
   "codemirror_mode": {
    "name": "ipython",
    "version": 3
   },
   "file_extension": ".py",
   "mimetype": "text/x-python",
   "name": "python",
   "nbconvert_exporter": "python",
   "pygments_lexer": "ipython3",
   "version": "3.9.12"
  }
 },
 "nbformat": 4,
 "nbformat_minor": 2
}
